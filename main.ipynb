{
 "nbformat": 4,
 "nbformat_minor": 0,
 "metadata": {
  "colab": {
   "provenance": [],
   "authorship_tag": "ABX9TyNXc8r6uTVp3aiLKMp+U1bx",
   "include_colab_link": true
  },
  "kernelspec": {
   "name": "python3",
   "display_name": "Python 3"
  },
  "language_info": {
   "name": "python"
  }
 },
 "cells": [
  {
   "cell_type": "markdown",
   "metadata": {
    "id": "view-in-github",
    "colab_type": "text"
   },
   "source": [
    "<a href=\"https://colab.research.google.com/github/glebishead/CelsiusToFahrenheit/blob/master/main.ipynb\" target=\"_parent\"><img src=\"https://colab.research.google.com/assets/colab-badge.svg\" alt=\"Open In Colab\"/></a>"
   ]
  },
  {
   "cell_type": "code",
   "execution_count": 1,
   "metadata": {
    "id": "_hbQkaK-Eyky"
   },
   "outputs": [],
   "source": [
    "import numpy as np\n",
    "from tensorflow import keras\n",
    "from keras.models import Sequential\n",
    "from keras.layers import Dense\n",
    "from keras.optimizers import Adam\n",
    "import matplotlib.pyplot as plt"
   ]
  },
  {
   "cell_type": "markdown",
   "source": [
    "F = 1.8 * C + 32\n",
    "\n",
    "y = kx + b"
   ],
   "metadata": {
    "id": "P0P1amObtJPm"
   }
  },
  {
   "cell_type": "code",
   "source": [
    "c = np.array([-273, -100, -40, 0, 10, 14, 38, 50, 100, 400, 800])\n",
    "f = np.array(c * 1.8 + 32)"
   ],
   "metadata": {
    "id": "2sOXa6XYj6vV"
   },
   "execution_count": 2,
   "outputs": []
  },
  {
   "cell_type": "markdown",
   "source": [
    "Обучающая выборка, пара значение - ответ \n",
    "\n",
    "f[i] = 1.8 * c[i] + 32\n",
    "\n",
    "c - список градусов Цельсия\n",
    "\n",
    "f - Фаренгейта"
   ],
   "metadata": {
    "id": "J7RN-FpeuJNd"
   }
  },
  {
   "cell_type": "markdown",
   "source": [
    "![Без имени.png](data:image/png;base64,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)"
   ],
   "metadata": {
    "id": "0FEAZX4nySaD"
   }
  },
  {
   "cell_type": "code",
   "source": [
    "model = Sequential()\n",
    "model.add(Dense(units=1, input_shape=(1,), activation='linear'))\n",
    "model.compile(loss='mean_squared_error', optimizer=Adam(0.1))"
   ],
   "metadata": {
    "id": "w7KA0L6UzIk0"
   },
   "execution_count": 3,
   "outputs": []
  },
  {
   "cell_type": "markdown",
   "source": [
    "Sequential - последовательный. Модель полносвязная, сигнал распространяется последовательно в одном направлении."
   ],
   "metadata": {
    "collapsed": false,
    "pycharm": {
     "name": "#%% md\n"
    }
   }
  },
  {
   "cell_type": "markdown",
   "source": [
    "Создание модели, её компиляция"
   ],
   "metadata": {
    "collapsed": false,
    "pycharm": {
     "name": "#%% md\n"
    }
   }
  },
  {
   "cell_type": "code",
   "execution_count": null,
   "outputs": [],
   "source": [
    "history = model.fit(c, f, epochs=100, verbose=False)"
   ],
   "metadata": {
    "collapsed": false,
    "pycharm": {
     "name": "#%%\n"
    }
   }
  },
  {
   "cell_type": "code",
   "execution_count": null,
   "outputs": [],
   "source": [
    "plt.plot(history.history['loss'])\n",
    "plt.grid(True)\n",
    "plt.show()"
   ],
   "metadata": {
    "collapsed": false,
    "pycharm": {
     "name": "#%%\n"
    }
   }
  },
  {
   "cell_type": "code",
   "execution_count": null,
   "outputs": [],
   "source": [
    "print(model.predict([100]))\n",
    "print(100 * 1.8 + 32)\n",
    "print(model.get_weights())"
   ],
   "metadata": {
    "collapsed": false,
    "pycharm": {
     "name": "#%%\n"
    }
   }
  },
  {
   "cell_type": "code",
   "source": [
    "print(model.predict([100]))\n",
    "print(100 * 1.8 + 32)\n",
    "print(model.get_weights())"
   ],
   "metadata": {
    "colab": {
     "base_uri": "https://localhost:8080/"
    },
    "id": "Kjfr9mx01Yem",
    "outputId": "de18da26-14b4-40d3-8f12-ef423f1ff498"
   },
   "execution_count": 9,
   "outputs": [
    {
     "output_type": "stream",
     "name": "stdout",
     "text": [
      "1/1 [==============================] - 0s 166ms/step\n",
      "[[211.99869]]\n",
      "212.0\n",
      "[array([[1.8]], dtype=float32), array([31.998682], dtype=float32)]\n"
     ]
    }
   ]
  },
  {
   "cell_type": "markdown",
   "source": [
    "Существует разница, пробуем дообучить"
   ],
   "metadata": {
    "id": "lToS1qVU1gfc"
   }
  },
  {
   "cell_type": "code",
   "source": [
    "new_c = np.array([np.random.randint(-273, 1000) for _ in range(100)])\n",
    "new_f = new_c * 1.8 + 32\n",
    "\n",
    "new_history = model.fit(new_c, new_f, epochs=500, verbose=False)"
   ],
   "metadata": {
    "id": "lrMqGfCo172D"
   },
   "execution_count": 7,
   "outputs": []
  },
  {
   "cell_type": "markdown",
   "source": [
    "Дообучили модель\n"
   ],
   "metadata": {
    "id": "Cpy7d9SI2nIW"
   }
  },
  {
   "cell_type": "code",
   "source": [
    "print(model.get_weights())\n",
    "plt.plot(new_history.history['loss'])\n",
    "plt.grid(True)\n",
    "plt.show()"
   ],
   "metadata": {
    "colab": {
     "base_uri": "https://localhost:8080/",
     "height": 447
    },
    "outputId": "eaae1621-9a4a-4f77-93ca-60dcee696969",
    "id": "w5-7G5cG2cnC"
   },
   "execution_count": 8,
   "outputs": [
    {
     "output_type": "stream",
     "name": "stdout",
     "text": [
      "[array([[1.8]], dtype=float32), array([31.998682], dtype=float32)]\n"
     ]
    },
    {
     "output_type": "display_data",
     "data": {
      "text/plain": [
       "<Figure size 640x480 with 1 Axes>"
      ],
      "image/png": "[encoded data removed]"
     },
     "metadata": {}
    }
   ]
  },
  {
   "cell_type": "code",
   "source": [
    "for i in range(-100, 100):\n",
    "  print(model.predict([i]))\n",
    "  print(i * 1.8 + 32)"
   ],
   "metadata": {
    "id": "pTakAPmM2mAr"
   },
   "execution_count": null,
   "outputs": []
  },
  {
   "cell_type": "markdown",
   "source": [
    "Тест"
   ],
   "metadata": {
    "id": "1-V46vbd3YRF"
   }
  },
  {
   "cell_type": "code",
   "source": [
    "for i in range(-1000, -100):\n",
    "  result = model.predict([i])\n",
    "  if abs(i * 1.8 + 32 - result) >= 0.001:\n",
    "    print(i * 1.8 + 32, result)"
   ],
   "metadata": {
    "id": "6nCSnEoQ3a0o"
   },
   "execution_count": null,
   "outputs": []
  },
  {
   "cell_type": "code",
   "source": [
    "print(model.get_weights())"
   ],
   "metadata": {
    "colab": {
     "base_uri": "https://localhost:8080/"
    },
    "id": "NZEQ5-Gv4Oj5",
    "outputId": "d8d1a7a7-e60c-4026-dc28-93d55dccd806"
   },
   "execution_count": null,
   "outputs": [
    {
     "output_type": "stream",
     "name": "stdout",
     "text": [
      "[array([[1.8000028]], dtype=float32), array([31.99831], dtype=float32)]\n"
     ]
    }
   ]
  },
  {
   "cell_type": "markdown",
   "source": [
    "Практически совпадают. Хорошая точность для нейронной сети"
   ],
   "metadata": {
    "id": "2SIMs3h64TyD"
   }
  },
  {
   "cell_type": "code",
   "source": [
    "model.save('model')"
   ],
   "metadata": {
    "id": "yg-BGTxuq2ua"
   },
   "execution_count": null,
   "outputs": []
  }
 ]
}